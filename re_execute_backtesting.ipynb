{
  "cells": [
    {
      "cell_type": "code",
      "execution_count": 3,
      "metadata": {
        "id": "geMqbmURR4rX",
        "colab": {
          "base_uri": "https://localhost:8080/"
        },
        "outputId": "2c6716a3-a8d7-48c6-b175-b79f38b5bfbd"
      },
      "outputs": [
        {
          "output_type": "stream",
          "name": "stdout",
          "text": [
            "Requirement already satisfied: gspread in /usr/local/lib/python3.11/dist-packages (6.1.4)\n",
            "Requirement already satisfied: google-auth in /usr/local/lib/python3.11/dist-packages (2.27.0)\n",
            "Requirement already satisfied: google-auth-oauthlib>=0.4.1 in /usr/local/lib/python3.11/dist-packages (from gspread) (1.2.1)\n",
            "Requirement already satisfied: cachetools<6.0,>=2.0.0 in /usr/local/lib/python3.11/dist-packages (from google-auth) (5.5.1)\n",
            "Requirement already satisfied: pyasn1-modules>=0.2.1 in /usr/local/lib/python3.11/dist-packages (from google-auth) (0.4.1)\n",
            "Requirement already satisfied: rsa<5,>=3.1.4 in /usr/local/lib/python3.11/dist-packages (from google-auth) (4.9)\n",
            "Requirement already satisfied: requests-oauthlib>=0.7.0 in /usr/local/lib/python3.11/dist-packages (from google-auth-oauthlib>=0.4.1->gspread) (2.0.0)\n",
            "Requirement already satisfied: pyasn1<0.7.0,>=0.4.6 in /usr/local/lib/python3.11/dist-packages (from pyasn1-modules>=0.2.1->google-auth) (0.6.1)\n",
            "Requirement already satisfied: oauthlib>=3.0.0 in /usr/local/lib/python3.11/dist-packages (from requests-oauthlib>=0.7.0->google-auth-oauthlib>=0.4.1->gspread) (3.2.2)\n",
            "Requirement already satisfied: requests>=2.0.0 in /usr/local/lib/python3.11/dist-packages (from requests-oauthlib>=0.7.0->google-auth-oauthlib>=0.4.1->gspread) (2.32.3)\n",
            "Requirement already satisfied: charset-normalizer<4,>=2 in /usr/local/lib/python3.11/dist-packages (from requests>=2.0.0->requests-oauthlib>=0.7.0->google-auth-oauthlib>=0.4.1->gspread) (3.4.1)\n",
            "Requirement already satisfied: idna<4,>=2.5 in /usr/local/lib/python3.11/dist-packages (from requests>=2.0.0->requests-oauthlib>=0.7.0->google-auth-oauthlib>=0.4.1->gspread) (3.10)\n",
            "Requirement already satisfied: urllib3<3,>=1.21.1 in /usr/local/lib/python3.11/dist-packages (from requests>=2.0.0->requests-oauthlib>=0.7.0->google-auth-oauthlib>=0.4.1->gspread) (2.3.0)\n",
            "Requirement already satisfied: certifi>=2017.4.17 in /usr/local/lib/python3.11/dist-packages (from requests>=2.0.0->requests-oauthlib>=0.7.0->google-auth-oauthlib>=0.4.1->gspread) (2025.1.31)\n"
          ]
        }
      ],
      "source": [
        "# Setup\n",
        "\n",
        "# Install packages\n",
        "!pip install smartapi-python\n",
        "!pip install logzero\n",
        "!pip install pyotp\n",
        "!pip install websocket-client\n",
        "!pip install ijson\n",
        "!pip install mplfinance\n",
        "!pip install gspread google-auth\n",
        "!pip install pandas plotly\n",
        "\n",
        "url = 'https://anaconda.org/conda-forge/libta-lib/0.4.0/download/linux-64/libta-lib-0.4.0-h166bdaf_1.tar.bz2'\n",
        "!curl -L $url | tar xj -C /usr/lib/x86_64-linux-gnu/ lib --strip-components=1\n",
        "!pip install conda-package-handling\n",
        "!wget https://anaconda.org/conda-forge/ta-lib/0.5.1/download/linux-64/ta-lib-0.5.1-py311h9ecbd09_0.conda\n",
        "!cph x ta-lib-0.5.1-py311h9ecbd09_0.conda\n",
        "!mv ./ta-lib-0.5.1-py311h9ecbd09_0/lib/python3.11/site-packages/talib /usr/local/lib/python3.11/dist-packages/\n",
        "\n",
        "# Set time zone to IST\n",
        "!rm /etc/localtime\n",
        "!ln -s /usr/share/zoneinfo/Asia/Kolkata /etc/localtime\n",
        "!date\n"
      ]
    },
    {
      "cell_type": "code",
      "execution_count": 4,
      "metadata": {
        "id": "yxMK0GRbWV5I"
      },
      "outputs": [],
      "source": [
        "\n",
        "# package import statement\n",
        "from SmartApi import SmartConnect #or from SmartApi.smartConnect import SmartConnect\n",
        "import pyotp\n",
        "from logzero import logger\n",
        "import datetime\n",
        "import zipfile\n",
        "import os\n",
        "from datetime import time, timedelta, datetime\n",
        "import ijson\n",
        "import glob\n",
        "import json\n",
        "import mplfinance as mpf\n",
        "import time\n",
        "import plotly.graph_objects as go\n",
        "import requests\n",
        "import re\n",
        "import pandas as pd\n",
        "from talib.abstract import *\n",
        "\n",
        "from google.colab import auth\n",
        "auth.authenticate_user()\n",
        "\n",
        "import gspread\n",
        "from google.auth import default\n",
        "creds, _ = default()\n",
        "gc = gspread.authorize(creds)"
      ]
    },
    {
      "cell_type": "code",
      "execution_count": 28,
      "metadata": {
        "colab": {
          "base_uri": "https://localhost:8080/",
          "height": 1000
        },
        "id": "tfiKKQ2QwmSt",
        "outputId": "dd926aec-aa0a-4818-8663-987e00f745c5"
      },
      "outputs": [
        {
          "output_type": "stream",
          "name": "stdout",
          "text": [
            "\n",
            "--------------------------------------\n",
            "Date: 02 Nov 2020\n"
          ]
        },
        {
          "output_type": "stream",
          "name": "stderr",
          "text": [
            "<ipython-input-28-ea68c0dd2dea>:175: DeprecationWarning: The order of arguments in worksheet.update() has changed. Please pass values first and range_name secondor used named arguments (range_name=, values=)\n",
            "  worksheet.update('A1', [headers])  # Update row 1 with your headers\n",
            "<ipython-input-28-ea68c0dd2dea>:227: DeprecationWarning: The order of arguments in worksheet.update() has changed. Please pass values first and range_name secondor used named arguments (range_name=, values=)\n",
            "  worksheet.update(range_str, [[time_only, buy, sell]])\n",
            "<ipython-input-28-ea68c0dd2dea>:227: DeprecationWarning: The order of arguments in worksheet.update() has changed. Please pass values first and range_name secondor used named arguments (range_name=, values=)\n",
            "  worksheet.update(range_str, [[time_only, buy, sell]])\n",
            "<ipython-input-28-ea68c0dd2dea>:264: DeprecationWarning: The order of arguments in worksheet.update() has changed. Please pass values first and range_name secondor used named arguments (range_name=, values=)\n",
            "  worksheet.update(range_str, [[time_only, buy, sell]])\n",
            "<ipython-input-28-ea68c0dd2dea>:227: DeprecationWarning: The order of arguments in worksheet.update() has changed. Please pass values first and range_name secondor used named arguments (range_name=, values=)\n",
            "  worksheet.update(range_str, [[time_only, buy, sell]])\n",
            "<ipython-input-28-ea68c0dd2dea>:227: DeprecationWarning: The order of arguments in worksheet.update() has changed. Please pass values first and range_name secondor used named arguments (range_name=, values=)\n",
            "  worksheet.update(range_str, [[time_only, buy, sell]])\n",
            "<ipython-input-28-ea68c0dd2dea>:264: DeprecationWarning: The order of arguments in worksheet.update() has changed. Please pass values first and range_name secondor used named arguments (range_name=, values=)\n",
            "  worksheet.update(range_str, [[time_only, buy, sell]])\n",
            "<ipython-input-28-ea68c0dd2dea>:227: DeprecationWarning: The order of arguments in worksheet.update() has changed. Please pass values first and range_name secondor used named arguments (range_name=, values=)\n",
            "  worksheet.update(range_str, [[time_only, buy, sell]])\n",
            "<ipython-input-28-ea68c0dd2dea>:227: DeprecationWarning: The order of arguments in worksheet.update() has changed. Please pass values first and range_name secondor used named arguments (range_name=, values=)\n",
            "  worksheet.update(range_str, [[time_only, buy, sell]])\n",
            "<ipython-input-28-ea68c0dd2dea>:264: DeprecationWarning: The order of arguments in worksheet.update() has changed. Please pass values first and range_name secondor used named arguments (range_name=, values=)\n",
            "  worksheet.update(range_str, [[time_only, buy, sell]])\n",
            "<ipython-input-28-ea68c0dd2dea>:227: DeprecationWarning: The order of arguments in worksheet.update() has changed. Please pass values first and range_name secondor used named arguments (range_name=, values=)\n",
            "  worksheet.update(range_str, [[time_only, buy, sell]])\n",
            "<ipython-input-28-ea68c0dd2dea>:227: DeprecationWarning: The order of arguments in worksheet.update() has changed. Please pass values first and range_name secondor used named arguments (range_name=, values=)\n",
            "  worksheet.update(range_str, [[time_only, buy, sell]])\n",
            "<ipython-input-28-ea68c0dd2dea>:264: DeprecationWarning: The order of arguments in worksheet.update() has changed. Please pass values first and range_name secondor used named arguments (range_name=, values=)\n",
            "  worksheet.update(range_str, [[time_only, buy, sell]])\n",
            "<ipython-input-28-ea68c0dd2dea>:227: DeprecationWarning: The order of arguments in worksheet.update() has changed. Please pass values first and range_name secondor used named arguments (range_name=, values=)\n",
            "  worksheet.update(range_str, [[time_only, buy, sell]])\n",
            "<ipython-input-28-ea68c0dd2dea>:227: DeprecationWarning: The order of arguments in worksheet.update() has changed. Please pass values first and range_name secondor used named arguments (range_name=, values=)\n",
            "  worksheet.update(range_str, [[time_only, buy, sell]])\n",
            "<ipython-input-28-ea68c0dd2dea>:264: DeprecationWarning: The order of arguments in worksheet.update() has changed. Please pass values first and range_name secondor used named arguments (range_name=, values=)\n",
            "  worksheet.update(range_str, [[time_only, buy, sell]])\n",
            "<ipython-input-28-ea68c0dd2dea>:227: DeprecationWarning: The order of arguments in worksheet.update() has changed. Please pass values first and range_name secondor used named arguments (range_name=, values=)\n",
            "  worksheet.update(range_str, [[time_only, buy, sell]])\n",
            "<ipython-input-28-ea68c0dd2dea>:227: DeprecationWarning: The order of arguments in worksheet.update() has changed. Please pass values first and range_name secondor used named arguments (range_name=, values=)\n",
            "  worksheet.update(range_str, [[time_only, buy, sell]])\n",
            "<ipython-input-28-ea68c0dd2dea>:264: DeprecationWarning: The order of arguments in worksheet.update() has changed. Please pass values first and range_name secondor used named arguments (range_name=, values=)\n",
            "  worksheet.update(range_str, [[time_only, buy, sell]])\n",
            "<ipython-input-28-ea68c0dd2dea>:227: DeprecationWarning: The order of arguments in worksheet.update() has changed. Please pass values first and range_name secondor used named arguments (range_name=, values=)\n",
            "  worksheet.update(range_str, [[time_only, buy, sell]])\n",
            "<ipython-input-28-ea68c0dd2dea>:227: DeprecationWarning: The order of arguments in worksheet.update() has changed. Please pass values first and range_name secondor used named arguments (range_name=, values=)\n",
            "  worksheet.update(range_str, [[time_only, buy, sell]])\n",
            "<ipython-input-28-ea68c0dd2dea>:264: DeprecationWarning: The order of arguments in worksheet.update() has changed. Please pass values first and range_name secondor used named arguments (range_name=, values=)\n",
            "  worksheet.update(range_str, [[time_only, buy, sell]])\n",
            "<ipython-input-28-ea68c0dd2dea>:227: DeprecationWarning: The order of arguments in worksheet.update() has changed. Please pass values first and range_name secondor used named arguments (range_name=, values=)\n",
            "  worksheet.update(range_str, [[time_only, buy, sell]])\n",
            "<ipython-input-28-ea68c0dd2dea>:227: DeprecationWarning: The order of arguments in worksheet.update() has changed. Please pass values first and range_name secondor used named arguments (range_name=, values=)\n",
            "  worksheet.update(range_str, [[time_only, buy, sell]])\n",
            "<ipython-input-28-ea68c0dd2dea>:264: DeprecationWarning: The order of arguments in worksheet.update() has changed. Please pass values first and range_name secondor used named arguments (range_name=, values=)\n",
            "  worksheet.update(range_str, [[time_only, buy, sell]])\n",
            "<ipython-input-28-ea68c0dd2dea>:227: DeprecationWarning: The order of arguments in worksheet.update() has changed. Please pass values first and range_name secondor used named arguments (range_name=, values=)\n",
            "  worksheet.update(range_str, [[time_only, buy, sell]])\n",
            "<ipython-input-28-ea68c0dd2dea>:227: DeprecationWarning: The order of arguments in worksheet.update() has changed. Please pass values first and range_name secondor used named arguments (range_name=, values=)\n",
            "  worksheet.update(range_str, [[time_only, buy, sell]])\n",
            "<ipython-input-28-ea68c0dd2dea>:264: DeprecationWarning: The order of arguments in worksheet.update() has changed. Please pass values first and range_name secondor used named arguments (range_name=, values=)\n",
            "  worksheet.update(range_str, [[time_only, buy, sell]])\n",
            "<ipython-input-28-ea68c0dd2dea>:227: DeprecationWarning: The order of arguments in worksheet.update() has changed. Please pass values first and range_name secondor used named arguments (range_name=, values=)\n",
            "  worksheet.update(range_str, [[time_only, buy, sell]])\n",
            "<ipython-input-28-ea68c0dd2dea>:227: DeprecationWarning: The order of arguments in worksheet.update() has changed. Please pass values first and range_name secondor used named arguments (range_name=, values=)\n",
            "  worksheet.update(range_str, [[time_only, buy, sell]])\n",
            "<ipython-input-28-ea68c0dd2dea>:264: DeprecationWarning: The order of arguments in worksheet.update() has changed. Please pass values first and range_name secondor used named arguments (range_name=, values=)\n",
            "  worksheet.update(range_str, [[time_only, buy, sell]])\n",
            "<ipython-input-28-ea68c0dd2dea>:227: DeprecationWarning: The order of arguments in worksheet.update() has changed. Please pass values first and range_name secondor used named arguments (range_name=, values=)\n",
            "  worksheet.update(range_str, [[time_only, buy, sell]])\n",
            "<ipython-input-28-ea68c0dd2dea>:264: DeprecationWarning: The order of arguments in worksheet.update() has changed. Please pass values first and range_name secondor used named arguments (range_name=, values=)\n",
            "  worksheet.update(range_str, [[time_only, buy, sell]])\n",
            "<ipython-input-28-ea68c0dd2dea>:227: DeprecationWarning: The order of arguments in worksheet.update() has changed. Please pass values first and range_name secondor used named arguments (range_name=, values=)\n",
            "  worksheet.update(range_str, [[time_only, buy, sell]])\n",
            "<ipython-input-28-ea68c0dd2dea>:264: DeprecationWarning: The order of arguments in worksheet.update() has changed. Please pass values first and range_name secondor used named arguments (range_name=, values=)\n",
            "  worksheet.update(range_str, [[time_only, buy, sell]])\n",
            "<ipython-input-28-ea68c0dd2dea>:286: DeprecationWarning: The order of arguments in worksheet.update() has changed. Please pass values first and range_name secondor used named arguments (range_name=, values=)\n",
            "  worksheet.update(range_str, [[total_sum, num_win_days, num_loss_days]])\n"
          ]
        },
        {
          "output_type": "stream",
          "name": "stdout",
          "text": [
            "[-0.808125, 0.26249999999999996, 0.5456249999999998, -0.703125, -0.035624999999999844, 0.5924999999999999, -0.8943750000000001, 0.26249999999999996, 0.42749999999999994, -0.9281250000000001, 0.26249999999999996, 0.34312499999999996, -0.8174999999999999, 0.26249999999999996, 0.31124999999999986, -0.541875, -0.035624999999999844, 0.44625, -0.643125, -0.035624999999999844, 0.49125, -0.9299999999999998, 0.26249999999999996, 0.29249999999999987, -0.5625, -0.035624999999999844, 0.3, -0.9356250000000002, 0.26249999999999996, 0.290625, 0.32812499999999994, -0.16500000000000023, 0.27187500000000003, -0.3637500000000001]\n",
            "Total Profit %: -2.22\n",
            "Number of wins: 18\n",
            "Number of losses: 16\n",
            "\n",
            "--------------------------------------\n",
            "Date: 03 Nov 2020\n"
          ]
        },
        {
          "output_type": "stream",
          "name": "stderr",
          "text": [
            "<ipython-input-28-ea68c0dd2dea>:175: DeprecationWarning: The order of arguments in worksheet.update() has changed. Please pass values first and range_name secondor used named arguments (range_name=, values=)\n",
            "  worksheet.update('A1', [headers])  # Update row 1 with your headers\n",
            "<ipython-input-28-ea68c0dd2dea>:227: DeprecationWarning: The order of arguments in worksheet.update() has changed. Please pass values first and range_name secondor used named arguments (range_name=, values=)\n",
            "  worksheet.update(range_str, [[time_only, buy, sell]])\n",
            "<ipython-input-28-ea68c0dd2dea>:264: DeprecationWarning: The order of arguments in worksheet.update() has changed. Please pass values first and range_name secondor used named arguments (range_name=, values=)\n",
            "  worksheet.update(range_str, [[time_only, buy, sell]])\n",
            "<ipython-input-28-ea68c0dd2dea>:227: DeprecationWarning: The order of arguments in worksheet.update() has changed. Please pass values first and range_name secondor used named arguments (range_name=, values=)\n",
            "  worksheet.update(range_str, [[time_only, buy, sell]])\n",
            "<ipython-input-28-ea68c0dd2dea>:264: DeprecationWarning: The order of arguments in worksheet.update() has changed. Please pass values first and range_name secondor used named arguments (range_name=, values=)\n",
            "  worksheet.update(range_str, [[time_only, buy, sell]])\n",
            "<ipython-input-28-ea68c0dd2dea>:227: DeprecationWarning: The order of arguments in worksheet.update() has changed. Please pass values first and range_name secondor used named arguments (range_name=, values=)\n",
            "  worksheet.update(range_str, [[time_only, buy, sell]])\n",
            "<ipython-input-28-ea68c0dd2dea>:264: DeprecationWarning: The order of arguments in worksheet.update() has changed. Please pass values first and range_name secondor used named arguments (range_name=, values=)\n",
            "  worksheet.update(range_str, [[time_only, buy, sell]])\n",
            "<ipython-input-28-ea68c0dd2dea>:227: DeprecationWarning: The order of arguments in worksheet.update() has changed. Please pass values first and range_name secondor used named arguments (range_name=, values=)\n",
            "  worksheet.update(range_str, [[time_only, buy, sell]])\n",
            "<ipython-input-28-ea68c0dd2dea>:264: DeprecationWarning: The order of arguments in worksheet.update() has changed. Please pass values first and range_name secondor used named arguments (range_name=, values=)\n",
            "  worksheet.update(range_str, [[time_only, buy, sell]])\n",
            "<ipython-input-28-ea68c0dd2dea>:227: DeprecationWarning: The order of arguments in worksheet.update() has changed. Please pass values first and range_name secondor used named arguments (range_name=, values=)\n",
            "  worksheet.update(range_str, [[time_only, buy, sell]])\n",
            "<ipython-input-28-ea68c0dd2dea>:264: DeprecationWarning: The order of arguments in worksheet.update() has changed. Please pass values first and range_name secondor used named arguments (range_name=, values=)\n",
            "  worksheet.update(range_str, [[time_only, buy, sell]])\n",
            "<ipython-input-28-ea68c0dd2dea>:227: DeprecationWarning: The order of arguments in worksheet.update() has changed. Please pass values first and range_name secondor used named arguments (range_name=, values=)\n",
            "  worksheet.update(range_str, [[time_only, buy, sell]])\n",
            "<ipython-input-28-ea68c0dd2dea>:264: DeprecationWarning: The order of arguments in worksheet.update() has changed. Please pass values first and range_name secondor used named arguments (range_name=, values=)\n",
            "  worksheet.update(range_str, [[time_only, buy, sell]])\n",
            "<ipython-input-28-ea68c0dd2dea>:227: DeprecationWarning: The order of arguments in worksheet.update() has changed. Please pass values first and range_name secondor used named arguments (range_name=, values=)\n",
            "  worksheet.update(range_str, [[time_only, buy, sell]])\n",
            "<ipython-input-28-ea68c0dd2dea>:264: DeprecationWarning: The order of arguments in worksheet.update() has changed. Please pass values first and range_name secondor used named arguments (range_name=, values=)\n",
            "  worksheet.update(range_str, [[time_only, buy, sell]])\n",
            "<ipython-input-28-ea68c0dd2dea>:227: DeprecationWarning: The order of arguments in worksheet.update() has changed. Please pass values first and range_name secondor used named arguments (range_name=, values=)\n",
            "  worksheet.update(range_str, [[time_only, buy, sell]])\n",
            "<ipython-input-28-ea68c0dd2dea>:264: DeprecationWarning: The order of arguments in worksheet.update() has changed. Please pass values first and range_name secondor used named arguments (range_name=, values=)\n",
            "  worksheet.update(range_str, [[time_only, buy, sell]])\n",
            "<ipython-input-28-ea68c0dd2dea>:227: DeprecationWarning: The order of arguments in worksheet.update() has changed. Please pass values first and range_name secondor used named arguments (range_name=, values=)\n",
            "  worksheet.update(range_str, [[time_only, buy, sell]])\n",
            "<ipython-input-28-ea68c0dd2dea>:264: DeprecationWarning: The order of arguments in worksheet.update() has changed. Please pass values first and range_name secondor used named arguments (range_name=, values=)\n",
            "  worksheet.update(range_str, [[time_only, buy, sell]])\n",
            "<ipython-input-28-ea68c0dd2dea>:227: DeprecationWarning: The order of arguments in worksheet.update() has changed. Please pass values first and range_name secondor used named arguments (range_name=, values=)\n",
            "  worksheet.update(range_str, [[time_only, buy, sell]])\n",
            "<ipython-input-28-ea68c0dd2dea>:264: DeprecationWarning: The order of arguments in worksheet.update() has changed. Please pass values first and range_name secondor used named arguments (range_name=, values=)\n",
            "  worksheet.update(range_str, [[time_only, buy, sell]])\n",
            "<ipython-input-28-ea68c0dd2dea>:227: DeprecationWarning: The order of arguments in worksheet.update() has changed. Please pass values first and range_name secondor used named arguments (range_name=, values=)\n",
            "  worksheet.update(range_str, [[time_only, buy, sell]])\n",
            "<ipython-input-28-ea68c0dd2dea>:264: DeprecationWarning: The order of arguments in worksheet.update() has changed. Please pass values first and range_name secondor used named arguments (range_name=, values=)\n",
            "  worksheet.update(range_str, [[time_only, buy, sell]])\n",
            "<ipython-input-28-ea68c0dd2dea>:227: DeprecationWarning: The order of arguments in worksheet.update() has changed. Please pass values first and range_name secondor used named arguments (range_name=, values=)\n",
            "  worksheet.update(range_str, [[time_only, buy, sell]])\n",
            "<ipython-input-28-ea68c0dd2dea>:264: DeprecationWarning: The order of arguments in worksheet.update() has changed. Please pass values first and range_name secondor used named arguments (range_name=, values=)\n",
            "  worksheet.update(range_str, [[time_only, buy, sell]])\n",
            "<ipython-input-28-ea68c0dd2dea>:286: DeprecationWarning: The order of arguments in worksheet.update() has changed. Please pass values first and range_name secondor used named arguments (range_name=, values=)\n",
            "  worksheet.update(range_str, [[total_sum, num_win_days, num_loss_days]])\n"
          ]
        },
        {
          "output_type": "stream",
          "name": "stdout",
          "text": [
            "[-0.5456249999999998, 0.075, -0.7387499999999998, 0.12562500000000004, -0.6299999999999998, 0.0393749999999999, -0.3674999999999999, 0.0037499999999997874, -0.455625, 0.0037499999999997874, -0.4856249999999998, 0.04499999999999984, -0.5549999999999999, 0.046875, -0.26437499999999986, -0.09562500000000017, -0.4893749999999999, 0.0, -0.47999999999999987, -0.1181250000000002, -0.71625, 0.0393749999999999, -0.41812499999999997, -0.15]\n",
            "Total Profit %: -6.13125\n",
            "Number of wins: 8\n",
            "Number of losses: 15\n"
          ]
        },
        {
          "output_type": "stream",
          "name": "stderr",
          "text": [
            "<ipython-input-28-ea68c0dd2dea>:336: DeprecationWarning: The order of arguments in worksheet.update() has changed. Please pass values first and range_name secondor used named arguments (range_name=, values=)\n",
            "  worksheet.update(range_str, [[\"Profit\", \"Win Days\", \"Loss Days\"]])\n"
          ]
        },
        {
          "output_type": "stream",
          "name": "stdout",
          "text": [
            "\n",
            "--------------------------------------\n",
            "Date: 04 Nov 2020\n"
          ]
        },
        {
          "output_type": "stream",
          "name": "stderr",
          "text": [
            "<ipython-input-28-ea68c0dd2dea>:175: DeprecationWarning: The order of arguments in worksheet.update() has changed. Please pass values first and range_name secondor used named arguments (range_name=, values=)\n",
            "  worksheet.update('A1', [headers])  # Update row 1 with your headers\n",
            "<ipython-input-28-ea68c0dd2dea>:286: DeprecationWarning: The order of arguments in worksheet.update() has changed. Please pass values first and range_name secondor used named arguments (range_name=, values=)\n",
            "  worksheet.update(range_str, [[total_sum, num_win_days, num_loss_days]])\n"
          ]
        },
        {
          "output_type": "stream",
          "name": "stdout",
          "text": [
            "[0.70875, -0.6168750000000001, 1.0893750000000002, 0.6262500000000001, -0.7200000000000001, 1.0893750000000002, 0.2831249999999999, 0.8793750000000001, 0.178125, 0.8943750000000001, 0.24375, -0.79125, 1.0893750000000002, 0.4875, -0.6918750000000001, 1.021875, 0.5081250000000002, -0.808125, 1.021875, 0.3412500000000001, -0.658125, 1.021875, -0.88125, 0.455625, 0.9225, -0.0375, 0.70875, 0.46687500000000004, 0.27562499999999995, 0.34312499999999996, -0.15]\n",
            "Total Profit %: 9.301875\n",
            "Number of wins: 22\n",
            "Number of losses: 9\n",
            "\n",
            "--------------------------------------\n",
            "Date: 05 Nov 2020\n"
          ]
        },
        {
          "output_type": "stream",
          "name": "stderr",
          "text": [
            "<ipython-input-28-ea68c0dd2dea>:175: DeprecationWarning: The order of arguments in worksheet.update() has changed. Please pass values first and range_name secondor used named arguments (range_name=, values=)\n",
            "  worksheet.update('A1', [headers])  # Update row 1 with your headers\n",
            "<ipython-input-28-ea68c0dd2dea>:286: DeprecationWarning: The order of arguments in worksheet.update() has changed. Please pass values first and range_name secondor used named arguments (range_name=, values=)\n",
            "  worksheet.update(range_str, [[total_sum, num_win_days, num_loss_days]])\n"
          ]
        },
        {
          "output_type": "stream",
          "name": "stdout",
          "text": [
            "[-0.9993749999999999, 0.41250000000000003, 1.2018749999999998, -0.76875, 0.41250000000000003, 1.535625, 0.35625, -0.5549999999999999, 1.2825, -0.50625, 0.31312500000000004, 1.0499999999999998, -0.2418750000000001, 0.31312500000000004, 1.7081250000000003, -0.6899999999999998, 0.31312500000000004, 1.141875, -0.6393749999999998, 0.31312500000000004, 1.9387499999999998, 0.28874999999999995, 1.12125, -0.39375000000000004, 0.11999999999999997, 1.29375, -0.73125, 0.046875, 1.4456250000000004, 0.10687500000000005, 0.541875, -0.11999999999999997, 0.27562500000000006]\n",
            "Total Profit %: 11.8875\n",
            "Number of wins: 23\n",
            "Number of losses: 10\n",
            "\n",
            "--------------------------------------\n",
            "Date: 06 Nov 2020\n"
          ]
        },
        {
          "output_type": "stream",
          "name": "stderr",
          "text": [
            "<ipython-input-28-ea68c0dd2dea>:175: DeprecationWarning: The order of arguments in worksheet.update() has changed. Please pass values first and range_name secondor used named arguments (range_name=, values=)\n",
            "  worksheet.update('A1', [headers])  # Update row 1 with your headers\n",
            "<ipython-input-28-ea68c0dd2dea>:286: DeprecationWarning: The order of arguments in worksheet.update() has changed. Please pass values first and range_name secondor used named arguments (range_name=, values=)\n",
            "  worksheet.update(range_str, [[total_sum, num_win_days, num_loss_days]])\n"
          ]
        },
        {
          "output_type": "stream",
          "name": "stdout",
          "text": [
            "[-0.9975, -0.05625, 0.51375, -0.8850000000000001, -0.05625, 0.2512500000000001, -0.834375, -0.05625, 0.2662500000000001, -0.93375, -0.05625, 0.44437500000000013, -0.8287500000000001, -0.05625, 0.26812499999999995, -0.8831249999999999, -0.05625, 0.309375, -0.75375, -0.05625, 0.22687499999999988, 0.007499999999999841, 0.2006249999999998, -0.13312500000000016, 0.011249999999999894, -0.024374999999999945, -0.09562500000000017, -0.35625, 0.140625, -0.15187500000000015, -0.05250000000000022]\n",
            "Total Profit %: -4.683750000000001\n",
            "Number of wins: 11\n",
            "Number of losses: 20\n",
            "\n",
            "--------------------------------------\n",
            "Date: 09 Nov 2020\n"
          ]
        },
        {
          "output_type": "stream",
          "name": "stderr",
          "text": [
            "<ipython-input-28-ea68c0dd2dea>:175: DeprecationWarning: The order of arguments in worksheet.update() has changed. Please pass values first and range_name secondor used named arguments (range_name=, values=)\n",
            "  worksheet.update('A1', [headers])  # Update row 1 with your headers\n",
            "<ipython-input-28-ea68c0dd2dea>:286: DeprecationWarning: The order of arguments in worksheet.update() has changed. Please pass values first and range_name secondor used named arguments (range_name=, values=)\n",
            "  worksheet.update(range_str, [[total_sum, num_win_days, num_loss_days]])\n"
          ]
        },
        {
          "output_type": "stream",
          "name": "stdout",
          "text": [
            "[-0.455625, 0.5100000000000001, -0.60375, 0.7068749999999999, -0.6243749999999999, 0.6731250000000002, -0.6881250000000001, 0.71625, -0.8156249999999999, 0.6787500000000001, -0.7762500000000001, 0.6075000000000002, -0.6018749999999999, -0.5456249999999998, 0.7556249999999999, -0.5100000000000001, -0.5456249999999998, 0.7593749999999999, -0.76875, 0.5399999999999999, -0.75, 0.48374999999999996, -0.6674999999999999, 0.42749999999999994, -0.590625, 0.253125]\n",
            "Total Profit %: -1.8318749999999995\n",
            "Number of wins: 12\n",
            "Number of losses: 14\n",
            "\n",
            "--------------------------------------\n",
            "Date: 10 Nov 2020\n"
          ]
        },
        {
          "output_type": "stream",
          "name": "stderr",
          "text": [
            "<ipython-input-28-ea68c0dd2dea>:175: DeprecationWarning: The order of arguments in worksheet.update() has changed. Please pass values first and range_name secondor used named arguments (range_name=, values=)\n",
            "  worksheet.update('A1', [headers])  # Update row 1 with your headers\n",
            "<ipython-input-28-ea68c0dd2dea>:286: DeprecationWarning: The order of arguments in worksheet.update() has changed. Please pass values first and range_name secondor used named arguments (range_name=, values=)\n",
            "  worksheet.update(range_str, [[total_sum, num_win_days, num_loss_days]])\n"
          ]
        },
        {
          "output_type": "stream",
          "name": "stdout",
          "text": [
            "[-0.9168750000000001, -0.6262500000000001, 0.973125, -0.7237499999999999, -0.6262500000000001, 0.890625, -0.5868749999999999, -0.6262500000000001, 0.811875, -0.7049999999999998, 0.5231250000000001, -0.5831249999999999, 0.6637500000000001, -0.6018749999999999, 0.6450000000000001, -0.6056250000000001, 0.6225000000000002, -0.26249999999999996, -0.5737499999999999, 0.7424999999999998, -0.35625, 0.5381250000000001, -0.39375000000000004, 0.45375000000000004, -0.7350000000000001, 0.5399999999999999, -0.20249999999999996, -0.06562499999999999]\n",
            "Total Profit %: -1.7868749999999989\n",
            "Number of wins: 11\n",
            "Number of losses: 17\n",
            "\n",
            "--------------------------------------\n",
            "Date: 11 Nov 2020\n"
          ]
        },
        {
          "output_type": "stream",
          "name": "stderr",
          "text": [
            "<ipython-input-28-ea68c0dd2dea>:175: DeprecationWarning: The order of arguments in worksheet.update() has changed. Please pass values first and range_name secondor used named arguments (range_name=, values=)\n",
            "  worksheet.update('A1', [headers])  # Update row 1 with your headers\n",
            "<ipython-input-28-ea68c0dd2dea>:286: DeprecationWarning: The order of arguments in worksheet.update() has changed. Please pass values first and range_name secondor used named arguments (range_name=, values=)\n",
            "  worksheet.update(range_str, [[total_sum, num_win_days, num_loss_days]])\n"
          ]
        },
        {
          "output_type": "stream",
          "name": "stdout",
          "text": [
            "[0.10874999999999994, -0.620625, -0.650625, 1.1324999999999998, 0.3899999999999999, -0.66, -0.650625, 1.1324999999999998, 0.3543750000000001, -0.748125, -0.650625, 1.1324999999999998, 0.18187500000000004, -0.6450000000000001, -0.650625, 1.1324999999999998, -0.96, 0.02062500000000016, 1.179375, -0.6, -0.8156249999999999, 0.02062500000000016, 1.3199999999999998, -0.9525, 0.02062500000000016, -0.4762500000000001, 1.30875, -1.0406250000000001, 0.02062500000000016, 1.0574999999999999, -0.8268749999999999, -0.943125, -0.7762500000000001, 1.0462500000000001, -0.91125, 0.02062500000000016, 1.014375, 0.02062500000000016, 0.23999999999999994, 0.08999999999999994, 0.06937500000000005]\n",
            "Total Profit %: -0.5643750000000003\n",
            "Number of wins: 23\n",
            "Number of losses: 18\n",
            "\n",
            "--------------------------------------\n",
            "Date: 12 Nov 2020\n"
          ]
        },
        {
          "output_type": "stream",
          "name": "stderr",
          "text": [
            "<ipython-input-28-ea68c0dd2dea>:175: DeprecationWarning: The order of arguments in worksheet.update() has changed. Please pass values first and range_name secondor used named arguments (range_name=, values=)\n",
            "  worksheet.update('A1', [headers])  # Update row 1 with your headers\n",
            "<ipython-input-28-ea68c0dd2dea>:286: DeprecationWarning: The order of arguments in worksheet.update() has changed. Please pass values first and range_name secondor used named arguments (range_name=, values=)\n",
            "  worksheet.update(range_str, [[total_sum, num_win_days, num_loss_days]])\n"
          ]
        },
        {
          "output_type": "stream",
          "name": "stdout",
          "text": [
            "[1.093125, -0.6993749999999999, 1.2393750000000003, 1.636875, -0.658125, 1.2393750000000003, 1.093125, 1.138125, 1.2225000000000001, -0.44625, 1.3050000000000002, 1.3087500000000003, -0.59625, 1.3050000000000002, 1.2825, -0.4237499999999999, 1.3050000000000002, 1.3462500000000004, -0.9149999999999999, 1.138125, 1.5768750000000002, -0.856875, 1.138125, -0.9375, 0.6168749999999998, 1.003125, -0.34312499999999996, 0.6168749999999998, -1.325625, 1.7474999999999998, -0.5775000000000001, -0.8475, 1.7474999999999998, 0.005624999999999947, 0.009375]\n",
            "Total Profit %: 17.488125\n",
            "Number of wins: 23\n",
            "Number of losses: 12\n",
            "\n",
            "--------------------------------------\n",
            "Date: 13 Nov 2020\n"
          ]
        },
        {
          "output_type": "stream",
          "name": "stderr",
          "text": [
            "<ipython-input-28-ea68c0dd2dea>:175: DeprecationWarning: The order of arguments in worksheet.update() has changed. Please pass values first and range_name secondor used named arguments (range_name=, values=)\n",
            "  worksheet.update('A1', [headers])  # Update row 1 with your headers\n",
            "<ipython-input-28-ea68c0dd2dea>:286: DeprecationWarning: The order of arguments in worksheet.update() has changed. Please pass values first and range_name secondor used named arguments (range_name=, values=)\n",
            "  worksheet.update(range_str, [[total_sum, num_win_days, num_loss_days]])\n"
          ]
        },
        {
          "output_type": "stream",
          "name": "stdout",
          "text": [
            "[-0.59625, -0.5831249999999999, 0.06937500000000005, 0.9093750000000002, -0.5549999999999999, -0.5831249999999999, 0.06937500000000005, 0.8568749999999998, -0.1049999999999999, 0.515625, -0.29437500000000005, 0.51375, -0.5325000000000002, -0.05437500000000011, 0.6393749999999998, -0.42000000000000015, 0.594375, -0.6018749999999999, -0.05437500000000011, 0.5549999999999999, -0.41250000000000003, 0.52125, -0.38624999999999987, 0.4199999999999999, -0.33187500000000003, 0.234375, -0.2887500000000001, 0.1893749999999999, -0.13500000000000006, -0.06937500000000005]\n",
            "Total Profit %: 0.08437499999999906\n",
            "Number of wins: 13\n",
            "Number of losses: 17\n",
            "\n",
            "--------------------------------------\n",
            "Date: 14 Nov 2020\n"
          ]
        },
        {
          "output_type": "stream",
          "name": "stderr",
          "text": [
            "<ipython-input-28-ea68c0dd2dea>:175: DeprecationWarning: The order of arguments in worksheet.update() has changed. Please pass values first and range_name secondor used named arguments (range_name=, values=)\n",
            "  worksheet.update('A1', [headers])  # Update row 1 with your headers\n",
            "<ipython-input-28-ea68c0dd2dea>:286: DeprecationWarning: The order of arguments in worksheet.update() has changed. Please pass values first and range_name secondor used named arguments (range_name=, values=)\n",
            "  worksheet.update(range_str, [[total_sum, num_win_days, num_loss_days]])\n"
          ]
        },
        {
          "output_type": "stream",
          "name": "stdout",
          "text": [
            "[]\n",
            "Total Profit %: 0\n",
            "Number of wins: 0\n",
            "Number of losses: 0\n",
            "\n",
            "--------------------------------------\n",
            "Date: 17 Nov 2020\n"
          ]
        },
        {
          "output_type": "stream",
          "name": "stderr",
          "text": [
            "<ipython-input-28-ea68c0dd2dea>:175: DeprecationWarning: The order of arguments in worksheet.update() has changed. Please pass values first and range_name secondor used named arguments (range_name=, values=)\n",
            "  worksheet.update('A1', [headers])  # Update row 1 with your headers\n",
            "<ipython-input-28-ea68c0dd2dea>:286: DeprecationWarning: The order of arguments in worksheet.update() has changed. Please pass values first and range_name secondor used named arguments (range_name=, values=)\n",
            "  worksheet.update(range_str, [[total_sum, num_win_days, num_loss_days]])\n"
          ]
        },
        {
          "output_type": "stream",
          "name": "stdout",
          "text": [
            "[0.26999999999999985, -0.8362499999999999, 1.1062500000000002, 0.24937499999999996, -0.890625, 1.1062500000000002, -0.00187500000000016, -0.6375000000000001, 1.1062500000000002, -0.21750000000000014, 0.975, -0.384375, 0.976875, -0.2887500000000001, 0.7818750000000001, -0.16687500000000013, 0.7818750000000001, -0.12562500000000004, 0.7518750000000002, 0.0037499999999997874, 0.56625, 0.0, 0.575625, -0.13124999999999998, 0.6337499999999999, 0.028125, 0.253125]\n",
            "Total Profit %: 6.4856250000000015\n",
            "Number of wins: 16\n",
            "Number of losses: 10\n",
            "\n",
            "--------------------------------------\n",
            "Date: 18 Nov 2020\n"
          ]
        },
        {
          "output_type": "stream",
          "name": "stderr",
          "text": [
            "<ipython-input-28-ea68c0dd2dea>:175: DeprecationWarning: The order of arguments in worksheet.update() has changed. Please pass values first and range_name secondor used named arguments (range_name=, values=)\n",
            "  worksheet.update('A1', [headers])  # Update row 1 with your headers\n",
            "<ipython-input-28-ea68c0dd2dea>:286: DeprecationWarning: The order of arguments in worksheet.update() has changed. Please pass values first and range_name secondor used named arguments (range_name=, values=)\n",
            "  worksheet.update(range_str, [[total_sum, num_win_days, num_loss_days]])\n"
          ]
        },
        {
          "output_type": "stream",
          "name": "stdout",
          "text": [
            "[-0.658125, -0.4237499999999999, 0.808125, -0.5868749999999999, -0.4237499999999999, -0.5512500000000001, 1.115625, -0.75, -0.4237499999999999, -0.45375000000000004, 1.115625, -0.78375, -0.4237499999999999, -0.50625, 1.115625, -1.0875000000000001, -0.4237499999999999, 0.97125, -0.39375000000000004, -0.8793750000000001, -0.4237499999999999, 1.0068750000000002, -1.130625, -0.4237499999999999, 0.84375, -1.12875, -0.4237499999999999, 1.1400000000000001, -1.02375, -0.4237499999999999, 1.0574999999999999, -0.42749999999999994, 0.5231250000000001, -0.5568749999999999, 0.504375, -0.380625, 0.17624999999999996]\n",
            "Total Profit %: -4.734375\n",
            "Number of wins: 12\n",
            "Number of losses: 25\n",
            "\n",
            "--------------------------------------\n",
            "Date: 19 Nov 2020\n"
          ]
        },
        {
          "output_type": "stream",
          "name": "stderr",
          "text": [
            "<ipython-input-28-ea68c0dd2dea>:175: DeprecationWarning: The order of arguments in worksheet.update() has changed. Please pass values first and range_name secondor used named arguments (range_name=, values=)\n",
            "  worksheet.update('A1', [headers])  # Update row 1 with your headers\n",
            "<ipython-input-28-ea68c0dd2dea>:286: DeprecationWarning: The order of arguments in worksheet.update() has changed. Please pass values first and range_name secondor used named arguments (range_name=, values=)\n",
            "  worksheet.update(range_str, [[total_sum, num_win_days, num_loss_days]])\n"
          ]
        },
        {
          "output_type": "stream",
          "name": "stdout",
          "text": [
            "[-1.288125, 1.03875, -0.8850000000000001, -1.306875, -1.370625, -0.5325000000000002, 1.03875, -0.6149999999999999, -0.07875000000000006, -0.26249999999999996, 0.9506249999999999, -1.1006250000000002, -0.07875000000000006, -0.26249999999999996, -0.7143749999999999, 0.9281250000000001, -0.6075000000000002, -0.07875000000000006, -0.26249999999999996, -0.30187499999999995, 0.9281250000000001, -1.0743749999999999, -0.07875000000000006, -0.26249999999999996, -0.28125, 0.9075, -1.14375, -0.07875000000000006, -0.26249999999999996, 1.003125, -0.421875, -1.33125, -0.07875000000000006, 1.314375, -0.6525, -0.07875000000000006, -0.26249999999999996, 1.035, -0.5643749999999998, -0.07875000000000006, -0.26249999999999996, 1.528125, -1.276875, -1.306875, -1.370625, -1.2468750000000002, 0.765, 0.646875, 1.025625, -1.318125]\n",
            "Total Profit %: -10.068750000000003\n",
            "Number of wins: 13\n",
            "Number of losses: 37\n",
            "\n",
            "--------------------------------------\n",
            "Date: 20 Nov 2020\n"
          ]
        },
        {
          "output_type": "stream",
          "name": "stderr",
          "text": [
            "<ipython-input-28-ea68c0dd2dea>:175: DeprecationWarning: The order of arguments in worksheet.update() has changed. Please pass values first and range_name secondor used named arguments (range_name=, values=)\n",
            "  worksheet.update('A1', [headers])  # Update row 1 with your headers\n",
            "<ipython-input-28-ea68c0dd2dea>:286: DeprecationWarning: The order of arguments in worksheet.update() has changed. Please pass values first and range_name secondor used named arguments (range_name=, values=)\n",
            "  worksheet.update(range_str, [[total_sum, num_win_days, num_loss_days]])\n"
          ]
        },
        {
          "output_type": "stream",
          "name": "stdout",
          "text": [
            "[-0.8887500000000003, 0.46312500000000006, 0.6318749999999999, -0.830625, 0.46312500000000006, 0.5193749999999999, -0.7593749999999999, 0.46312500000000006, 0.40125, -0.5700000000000002, -0.5924999999999999, 0.46312500000000006, 0.55875, -0.7143749999999999, -0.5924999999999999, 0.46312500000000006, 0.665625, -0.6562499999999999, -0.5924999999999999, 0.46312500000000006, 0.5475000000000001, -0.721875, -0.5924999999999999, 0.46312500000000006, 0.6168749999999998, -0.6562499999999999, -0.5924999999999999, 0.46312500000000006, 0.6675000000000001, -0.5774999999999999, -0.5924999999999999, 0.46312500000000006, 0.51375, 0.3375, 0.09750000000000006, 0.2606250000000001, 0.1762500000000001, 0.41250000000000003, -0.21562499999999998]\n",
            "Total Profit %: 0.4293750000000014\n",
            "Number of wins: 23\n",
            "Number of losses: 16\n",
            "\n",
            "--------------------------------------\n",
            "Date: 23 Nov 2020\n"
          ]
        },
        {
          "output_type": "stream",
          "name": "stderr",
          "text": [
            "<ipython-input-28-ea68c0dd2dea>:175: DeprecationWarning: The order of arguments in worksheet.update() has changed. Please pass values first and range_name secondor used named arguments (range_name=, values=)\n",
            "  worksheet.update('A1', [headers])  # Update row 1 with your headers\n",
            "<ipython-input-28-ea68c0dd2dea>:286: DeprecationWarning: The order of arguments in worksheet.update() has changed. Please pass values first and range_name secondor used named arguments (range_name=, values=)\n",
            "  worksheet.update(range_str, [[total_sum, num_win_days, num_loss_days]])\n"
          ]
        },
        {
          "output_type": "stream",
          "name": "stdout",
          "text": [
            "[0.11437500000000017, -0.6225000000000002, -0.5643749999999998, 0.823125, -0.6525, 0.08062499999999995, 0.6018749999999999, -0.22312499999999982, 0.5231250000000001, -0.66, 0.08062499999999995, 0.7931250000000001, -0.10874999999999994, 0.466875, -0.19125000000000006, 0.5231250000000001, -0.19312499999999994, 0.4181250000000001, -0.13687499999999994, 0.36375, -0.0862499999999999, 0.2118750000000001, 0.24937499999999996, -0.01875, 0.24562500000000018, -0.02999999999999989, 0.046875, 0.0375]\n",
            "Total Profit %: 2.092500000000001\n",
            "Number of wins: 16\n",
            "Number of losses: 12\n",
            "\n",
            "--------------------------------------\n",
            "Date: 24 Nov 2020\n"
          ]
        },
        {
          "output_type": "stream",
          "name": "stderr",
          "text": [
            "<ipython-input-28-ea68c0dd2dea>:175: DeprecationWarning: The order of arguments in worksheet.update() has changed. Please pass values first and range_name secondor used named arguments (range_name=, values=)\n",
            "  worksheet.update('A1', [headers])  # Update row 1 with your headers\n",
            "<ipython-input-28-ea68c0dd2dea>:286: DeprecationWarning: The order of arguments in worksheet.update() has changed. Please pass values first and range_name secondor used named arguments (range_name=, values=)\n",
            "  worksheet.update(range_str, [[total_sum, num_win_days, num_loss_days]])\n"
          ]
        },
        {
          "output_type": "stream",
          "name": "stdout",
          "text": [
            "[-0.59625, 0.7968750000000002, -0.3956249999999999, 0.6431250000000001, -0.44625, 0.6506249999999999, -0.49312500000000004, 0.67875, -0.6881250000000001, 0.8118750000000001, -0.5643749999999998, 0.635625, -0.6, 0.6712500000000001, -0.49125, 0.5775000000000001, -0.41625000000000006, 0.5437500000000001, -0.39187499999999986, 0.46124999999999994, -0.28125, 0.29249999999999987, -0.4293749999999998, 0.23812500000000006]\n",
            "Total Profit %: 1.207500000000001\n",
            "Number of wins: 12\n",
            "Number of losses: 12\n",
            "\n",
            "--------------------------------------\n",
            "Date: 25 Nov 2020\n"
          ]
        },
        {
          "output_type": "stream",
          "name": "stderr",
          "text": [
            "<ipython-input-28-ea68c0dd2dea>:175: DeprecationWarning: The order of arguments in worksheet.update() has changed. Please pass values first and range_name secondor used named arguments (range_name=, values=)\n",
            "  worksheet.update('A1', [headers])  # Update row 1 with your headers\n",
            "<ipython-input-28-ea68c0dd2dea>:286: DeprecationWarning: The order of arguments in worksheet.update() has changed. Please pass values first and range_name secondor used named arguments (range_name=, values=)\n",
            "  worksheet.update(range_str, [[total_sum, num_win_days, num_loss_days]])\n"
          ]
        },
        {
          "output_type": "stream",
          "name": "stdout",
          "text": [
            "[1.2149999999999999, -0.8624999999999999, -0.5475000000000001, -0.7125, 1.021875, -0.748125, -0.5475000000000001, -0.7125, 1.014375, -0.97875, -0.830625, -0.8362499999999999, 1.370625, -0.7200000000000001, -0.830625, -0.8362499999999999, 1.2750000000000001, -0.541875, -0.830625, -0.8362499999999999, 1.1493749999999998, -0.5625, -0.830625, -0.8362499999999999, 0.991875, -0.4706249999999998, -0.830625, -0.8362499999999999, 1.30875, -0.9993749999999999, -0.830625, -0.8362499999999999, 1.0649999999999997, -0.946875, -0.830625, -0.8362499999999999, 0.8418750000000002, -0.8362499999999999, 0.01875, 0.7575000000000001, -0.871875, 0.24562499999999987, -0.14812500000000012]\n",
            "Total Profit %: -10.599374999999997\n",
            "Number of wins: 13\n",
            "Number of losses: 30\n",
            "\n",
            "--------------------------------------\n",
            "Date: 26 Nov 2020\n"
          ]
        },
        {
          "output_type": "stream",
          "name": "stderr",
          "text": [
            "<ipython-input-28-ea68c0dd2dea>:175: DeprecationWarning: The order of arguments in worksheet.update() has changed. Please pass values first and range_name secondor used named arguments (range_name=, values=)\n",
            "  worksheet.update('A1', [headers])  # Update row 1 with your headers\n",
            "<ipython-input-28-ea68c0dd2dea>:286: DeprecationWarning: The order of arguments in worksheet.update() has changed. Please pass values first and range_name secondor used named arguments (range_name=, values=)\n",
            "  worksheet.update(range_str, [[total_sum, num_win_days, num_loss_days]])\n"
          ]
        },
        {
          "output_type": "stream",
          "name": "stdout",
          "text": [
            "[-0.7818750000000001, -0.3825000000000001, -0.8831249999999999, 1.314375, -0.406875, -1.01625, -1.155, 1.5693750000000002, -1.108125, -1.155, 1.273125, -0.8887500000000003, -1.155, -0.5606250000000002, 1.2356250000000002, -0.9618749999999999, -1.155, -0.5625, 1.2356250000000002, -0.3524999999999999, -1.141875, -1.155, 1.17375, -0.748125, -1.141875, -1.155, 1.265625, -1.108125, 1.2131250000000002, -0.75, -0.3975000000000001, 1.130625, -1.14, 1.8806250000000002, -1.3837499999999998, 1.794375, -1.06125, 0.853125]\n",
            "Total Profit %: -7.768124999999996\n",
            "Number of wins: 12\n",
            "Number of losses: 26\n",
            "\n",
            "--------------------------------------\n",
            "Date: 27 Nov 2020\n"
          ]
        },
        {
          "output_type": "stream",
          "name": "stderr",
          "text": [
            "<ipython-input-28-ea68c0dd2dea>:175: DeprecationWarning: The order of arguments in worksheet.update() has changed. Please pass values first and range_name secondor used named arguments (range_name=, values=)\n",
            "  worksheet.update('A1', [headers])  # Update row 1 with your headers\n",
            "<ipython-input-28-ea68c0dd2dea>:286: DeprecationWarning: The order of arguments in worksheet.update() has changed. Please pass values first and range_name secondor used named arguments (range_name=, values=)\n",
            "  worksheet.update(range_str, [[total_sum, num_win_days, num_loss_days]])\n"
          ]
        },
        {
          "output_type": "stream",
          "name": "stdout",
          "text": [
            "[0.5924999999999999, 0.23062499999999997, 0.4987499999999999, 0.2231250000000001, 0.3956249999999999, 0.23812500000000006, 0.346875, 0.2174999999999999, 0.32250000000000006, 0.2737499999999999, 0.51375, -0.643125, 0.36000000000000004, 0.6225000000000002, -0.8325000000000001, 0.36000000000000004, 0.5625, -0.6899999999999998, 0.36000000000000004, 0.3731249999999998, 0.05625, 0.42562500000000003, -0.6825000000000002, 0.36000000000000004, 0.3243749999999999, -0.684375, 0.36000000000000004, 0.31875000000000003, -0.16312500000000005]\n",
            "Total Profit %: 4.640625\n",
            "Number of wins: 23\n",
            "Number of losses: 6\n",
            "\n",
            "--------------------------------------\n",
            "Date: 01 Jan 2020\n"
          ]
        },
        {
          "output_type": "stream",
          "name": "stderr",
          "text": [
            "<ipython-input-28-ea68c0dd2dea>:175: DeprecationWarning: The order of arguments in worksheet.update() has changed. Please pass values first and range_name secondor used named arguments (range_name=, values=)\n",
            "  worksheet.update('A1', [headers])  # Update row 1 with your headers\n",
            "<ipython-input-28-ea68c0dd2dea>:286: DeprecationWarning: The order of arguments in worksheet.update() has changed. Please pass values first and range_name secondor used named arguments (range_name=, values=)\n",
            "  worksheet.update(range_str, [[total_sum, num_win_days, num_loss_days]])\n"
          ]
        },
        {
          "output_type": "stream",
          "name": "stdout",
          "text": [
            "[0.6, 0.03374999999999994, 0.31312500000000004, 0.2981249999999998, 0.17062500000000005, 0.350625, -0.2737499999999999, 0.15375000000000005, 0.5100000000000001, -0.253125, 0.15375000000000005, 0.49312500000000004, -0.2587499999999999, 0.15375000000000005, 0.47437499999999994, -0.45375000000000004, 0.17250000000000007, 0.6131250000000001, -0.23250000000000012, 0.17250000000000007, 0.41250000000000003, 0.10124999999999998, 0.27562500000000006, 0.13687499999999994, 0.19312499999999994, -0.2831249999999999, 0.06000000000000005, 0.3375, -0.2174999999999999, 0.256875]\n",
            "Total Profit %: 4.464375\n",
            "Number of wins: 23\n",
            "Number of losses: 7\n",
            "\n",
            "--------------------------------------\n",
            "Date: 02 Jan 2020\n"
          ]
        },
        {
          "output_type": "stream",
          "name": "stderr",
          "text": [
            "<ipython-input-28-ea68c0dd2dea>:175: DeprecationWarning: The order of arguments in worksheet.update() has changed. Please pass values first and range_name secondor used named arguments (range_name=, values=)\n",
            "  worksheet.update('A1', [headers])  # Update row 1 with your headers\n",
            "<ipython-input-28-ea68c0dd2dea>:286: DeprecationWarning: The order of arguments in worksheet.update() has changed. Please pass values first and range_name secondor used named arguments (range_name=, values=)\n",
            "  worksheet.update(range_str, [[total_sum, num_win_days, num_loss_days]])\n"
          ]
        },
        {
          "output_type": "stream",
          "name": "stdout",
          "text": [
            "[-0.856875, -0.02625000000000011, -0.03187500000000005, 1.2225000000000001, -1.0649999999999997, -0.02625000000000011, -0.03187500000000005, 1.3218750000000001, -0.8174999999999999, -0.02625000000000011, -0.03187500000000005, 1.03875, -0.8624999999999999, -0.02625000000000011, -0.03187500000000005, 1.0499999999999998, -0.5512500000000001, -0.02625000000000011, -0.03187500000000005, 0.7275, -0.26812499999999995, -0.02625000000000011, -0.03187500000000005, 1.250625, -0.346875, 0.6825000000000002, 0.028125, -0.50625, 0.8981250000000001, 0.05812499999999989, -0.5249999999999999, 0.8643750000000001, -0.45749999999999996, 0.6787500000000001, -0.455625, 0.609375, -0.2831249999999999, 0.32250000000000006]\n",
            "Total Profit %: 3.40875\n",
            "Number of wins: 14\n",
            "Number of losses: 24\n",
            "\n",
            "--------------------------------------\n",
            "Date: 03 Jan 2020\n"
          ]
        },
        {
          "output_type": "stream",
          "name": "stderr",
          "text": [
            "<ipython-input-28-ea68c0dd2dea>:175: DeprecationWarning: The order of arguments in worksheet.update() has changed. Please pass values first and range_name secondor used named arguments (range_name=, values=)\n",
            "  worksheet.update('A1', [headers])  # Update row 1 with your headers\n",
            "<ipython-input-28-ea68c0dd2dea>:286: DeprecationWarning: The order of arguments in worksheet.update() has changed. Please pass values first and range_name secondor used named arguments (range_name=, values=)\n",
            "  worksheet.update(range_str, [[total_sum, num_win_days, num_loss_days]])\n"
          ]
        },
        {
          "output_type": "stream",
          "name": "stdout",
          "text": [
            "[0.17624999999999996, -0.511875, 0.26249999999999996, 0.21750000000000003, -0.07500000000000014, 0.301875, -0.44437500000000013, 0.26249999999999996, 0.18375000000000005, 0.024374999999999945, 0.17812499999999987, 0.009375, -0.1875, 0.26249999999999996, -0.0637500000000001, 0.13874999999999985, -0.022500000000000055, 0.14437499999999978, -0.09937500000000021, 0.20437499999999983, -0.084375, 0.16687499999999983, -0.2681250000000002, 0.2568749999999998, -0.3, 0.17062499999999992]\n",
            "Total Profit %: 0.9037499999999979\n",
            "Number of wins: 16\n",
            "Number of losses: 10\n",
            "\n",
            "--------------------------------------\n",
            "Date: 06 Jan 2020\n"
          ]
        },
        {
          "output_type": "stream",
          "name": "stderr",
          "text": [
            "<ipython-input-28-ea68c0dd2dea>:175: DeprecationWarning: The order of arguments in worksheet.update() has changed. Please pass values first and range_name secondor used named arguments (range_name=, values=)\n",
            "  worksheet.update('A1', [headers])  # Update row 1 with your headers\n",
            "<ipython-input-28-ea68c0dd2dea>:286: DeprecationWarning: The order of arguments in worksheet.update() has changed. Please pass values first and range_name secondor used named arguments (range_name=, values=)\n",
            "  worksheet.update(range_str, [[total_sum, num_win_days, num_loss_days]])\n"
          ]
        },
        {
          "output_type": "stream",
          "name": "stdout",
          "text": [
            "[0.9674999999999999, 0.10124999999999984, 1.12875, -0.6975000000000001, -0.14624999999999994, 1.0481250000000002, -0.680625, -0.14624999999999994, 0.9075000000000001, -0.496875, -0.14624999999999994, 0.7725, -0.32062499999999994, 0.67125, -0.28125, 0.6299999999999998, -0.22124999999999992, 0.5437500000000001, -0.2418750000000001, 0.44625, -0.1575000000000001, 0.2981249999999998, -0.1293750000000001, 0.15937500000000002, 0.07875000000000006, 0.27187500000000003, -0.1762500000000001]\n",
            "Total Profit %: 4.183124999999999\n",
            "Number of wins: 14\n",
            "Number of losses: 13\n",
            "\n",
            "--------------------------------------\n",
            "Date: 07 Jan 2020\n"
          ]
        },
        {
          "output_type": "stream",
          "name": "stderr",
          "text": [
            "<ipython-input-28-ea68c0dd2dea>:175: DeprecationWarning: The order of arguments in worksheet.update() has changed. Please pass values first and range_name secondor used named arguments (range_name=, values=)\n",
            "  worksheet.update('A1', [headers])  # Update row 1 with your headers\n"
          ]
        },
        {
          "output_type": "error",
          "ename": "KeyboardInterrupt",
          "evalue": "",
          "traceback": [
            "\u001b[0;31m---------------------------------------------------------------------------\u001b[0m",
            "\u001b[0;31mKeyboardInterrupt\u001b[0m                         Traceback (most recent call last)",
            "\u001b[0;32m<ipython-input-28-ea68c0dd2dea>\u001b[0m in \u001b[0;36m<cell line: 0>\u001b[0;34m()\u001b[0m\n\u001b[1;32m    345\u001b[0m \u001b[0;34m\u001b[0m\u001b[0m\n\u001b[1;32m    346\u001b[0m \u001b[0;31m# Call the function to process your \"2020.zip\" file\u001b[0m\u001b[0;34m\u001b[0m\u001b[0;34m\u001b[0m\u001b[0m\n\u001b[0;32m--> 347\u001b[0;31m \u001b[0mprocess_nested_zip\u001b[0m\u001b[0;34m(\u001b[0m\u001b[0;34m\"/content/2020.zip\"\u001b[0m\u001b[0;34m)\u001b[0m\u001b[0;34m\u001b[0m\u001b[0;34m\u001b[0m\u001b[0m\n\u001b[0m\u001b[1;32m    348\u001b[0m \u001b[0;34m\u001b[0m\u001b[0m\n\u001b[1;32m    349\u001b[0m \u001b[0;34m\u001b[0m\u001b[0m\n",
            "\u001b[0;32m<ipython-input-28-ea68c0dd2dea>\u001b[0m in \u001b[0;36mprocess_nested_zip\u001b[0;34m(zip_file_path)\u001b[0m\n\u001b[1;32m    338\u001b[0m                                     \u001b[0mi\u001b[0m \u001b[0;34m+=\u001b[0m \u001b[0;36m1\u001b[0m\u001b[0;34m\u001b[0m\u001b[0;34m\u001b[0m\u001b[0m\n\u001b[1;32m    339\u001b[0m                                     \u001b[0mtarget_date\u001b[0m\u001b[0;34m,\u001b[0m \u001b[0mdf\u001b[0m \u001b[0;34m=\u001b[0m \u001b[0mdata_cleaning\u001b[0m\u001b[0;34m(\u001b[0m\u001b[0mcsv_file\u001b[0m\u001b[0;34m)\u001b[0m\u001b[0;34m\u001b[0m\u001b[0;34m\u001b[0m\u001b[0m\n\u001b[0;32m--> 340\u001b[0;31m                                     \u001b[0mtotal\u001b[0m \u001b[0;34m+=\u001b[0m \u001b[0mbacktest\u001b[0m\u001b[0;34m(\u001b[0m\u001b[0mtarget_date\u001b[0m\u001b[0;34m,\u001b[0m \u001b[0mdf\u001b[0m\u001b[0;34m,\u001b[0m \u001b[0mprint\u001b[0m\u001b[0;34m)\u001b[0m\u001b[0;34m\u001b[0m\u001b[0;34m\u001b[0m\u001b[0m\n\u001b[0m\u001b[1;32m    341\u001b[0m                                     \u001b[0mprint\u001b[0m \u001b[0;34m=\u001b[0m \u001b[0;32mFalse\u001b[0m\u001b[0;34m\u001b[0m\u001b[0;34m\u001b[0m\u001b[0m\n\u001b[1;32m    342\u001b[0m \u001b[0;34m\u001b[0m\u001b[0m\n",
            "\u001b[0;32m<ipython-input-28-ea68c0dd2dea>\u001b[0m in \u001b[0;36mbacktest\u001b[0;34m(target_date, df, display)\u001b[0m\n\u001b[1;32m    246\u001b[0m             \u001b[0;32mwhile\u001b[0m \u001b[0mj\u001b[0m \u001b[0;34m<\u001b[0m \u001b[0;36m3\u001b[0m\u001b[0;34m:\u001b[0m\u001b[0;34m\u001b[0m\u001b[0;34m\u001b[0m\u001b[0m\n\u001b[1;32m    247\u001b[0m                 \u001b[0;32mif\u001b[0m \u001b[0mx_time\u001b[0m \u001b[0;34m<=\u001b[0m \u001b[0;34m\"15:00:00\"\u001b[0m\u001b[0;34m:\u001b[0m\u001b[0;34m\u001b[0m\u001b[0;34m\u001b[0m\u001b[0m\n\u001b[0;32m--> 248\u001b[0;31m                     \u001b[0mx_time\u001b[0m\u001b[0;34m,\u001b[0m \u001b[0mx_profit\u001b[0m\u001b[0;34m,\u001b[0m \u001b[0mx_transactions\u001b[0m \u001b[0;34m=\u001b[0m \u001b[0msl_and_reentry\u001b[0m\u001b[0;34m(\u001b[0m\u001b[0mdf\u001b[0m\u001b[0;34m,\u001b[0m \u001b[0mp_ticker\u001b[0m\u001b[0;34m,\u001b[0m \u001b[0mp_price\u001b[0m\u001b[0;34m,\u001b[0m \u001b[0mx_time\u001b[0m\u001b[0;34m)\u001b[0m\u001b[0;34m\u001b[0m\u001b[0;34m\u001b[0m\u001b[0m\n\u001b[0m\u001b[1;32m    249\u001b[0m                     \u001b[0mx_time\u001b[0m \u001b[0;34m=\u001b[0m \u001b[0mstr\u001b[0m\u001b[0;34m(\u001b[0m\u001b[0mx_time\u001b[0m\u001b[0;34m)\u001b[0m\u001b[0;34m[\u001b[0m\u001b[0;34m-\u001b[0m\u001b[0;36m8\u001b[0m\u001b[0;34m:\u001b[0m\u001b[0;34m]\u001b[0m\u001b[0;34m\u001b[0m\u001b[0;34m\u001b[0m\u001b[0m\n\u001b[1;32m    250\u001b[0m                     \u001b[0mcurr2\u001b[0m \u001b[0;34m=\u001b[0m \u001b[0mfind_nearest_options\u001b[0m\u001b[0;34m(\u001b[0m\u001b[0mdf\u001b[0m\u001b[0;34m,\u001b[0m \u001b[0mprice_input\u001b[0m\u001b[0;34m,\u001b[0m \u001b[0mx_time\u001b[0m\u001b[0;34m)\u001b[0m\u001b[0;34m\u001b[0m\u001b[0;34m\u001b[0m\u001b[0m\n",
            "\u001b[0;32m<ipython-input-28-ea68c0dd2dea>\u001b[0m in \u001b[0;36msl_and_reentry\u001b[0;34m(df, ticker, price, time)\u001b[0m\n\u001b[1;32m     89\u001b[0m         \u001b[0;31m# Extract hour and minute from x\u001b[0m\u001b[0;34m\u001b[0m\u001b[0;34m\u001b[0m\u001b[0m\n\u001b[1;32m     90\u001b[0m         \u001b[0mdf_filtered\u001b[0m \u001b[0;34m=\u001b[0m \u001b[0mdf\u001b[0m\u001b[0;34m[\u001b[0m\u001b[0;34m(\u001b[0m\u001b[0mdf\u001b[0m\u001b[0;34m[\u001b[0m\u001b[0;34m'Ticker'\u001b[0m\u001b[0;34m]\u001b[0m \u001b[0;34m==\u001b[0m \u001b[0mticker\u001b[0m\u001b[0;34m)\u001b[0m\u001b[0;34m]\u001b[0m\u001b[0;34m.\u001b[0m\u001b[0mcopy\u001b[0m\u001b[0;34m(\u001b[0m\u001b[0;34m)\u001b[0m\u001b[0;34m\u001b[0m\u001b[0;34m\u001b[0m\u001b[0m\n\u001b[0;32m---> 91\u001b[0;31m         \u001b[0mcurr_time\u001b[0m \u001b[0;34m=\u001b[0m \u001b[0mpd\u001b[0m\u001b[0;34m.\u001b[0m\u001b[0mto_datetime\u001b[0m\u001b[0;34m(\u001b[0m\u001b[0mcurr_time\u001b[0m\u001b[0;34m,\u001b[0m \u001b[0mformat\u001b[0m\u001b[0;34m=\u001b[0m\u001b[0;34m'%H:%M:%S'\u001b[0m\u001b[0;34m)\u001b[0m\u001b[0;34m\u001b[0m\u001b[0;34m\u001b[0m\u001b[0m\n\u001b[0m\u001b[1;32m     92\u001b[0m \u001b[0;34m\u001b[0m\u001b[0m\n\u001b[1;32m     93\u001b[0m \u001b[0;34m\u001b[0m\u001b[0m\n",
            "\u001b[0;32m/usr/local/lib/python3.11/dist-packages/pandas/core/tools/datetimes.py\u001b[0m in \u001b[0;36mto_datetime\u001b[0;34m(arg, errors, dayfirst, yearfirst, utc, format, exact, unit, infer_datetime_format, origin, cache)\u001b[0m\n\u001b[1;32m   1099\u001b[0m             \u001b[0mresult\u001b[0m \u001b[0;34m=\u001b[0m \u001b[0mconvert_listlike\u001b[0m\u001b[0;34m(\u001b[0m\u001b[0margc\u001b[0m\u001b[0;34m,\u001b[0m \u001b[0mformat\u001b[0m\u001b[0;34m)\u001b[0m\u001b[0;34m\u001b[0m\u001b[0;34m\u001b[0m\u001b[0m\n\u001b[1;32m   1100\u001b[0m     \u001b[0;32melse\u001b[0m\u001b[0;34m:\u001b[0m\u001b[0;34m\u001b[0m\u001b[0;34m\u001b[0m\u001b[0m\n\u001b[0;32m-> 1101\u001b[0;31m         \u001b[0mresult\u001b[0m \u001b[0;34m=\u001b[0m \u001b[0mconvert_listlike\u001b[0m\u001b[0;34m(\u001b[0m\u001b[0mnp\u001b[0m\u001b[0;34m.\u001b[0m\u001b[0marray\u001b[0m\u001b[0;34m(\u001b[0m\u001b[0;34m[\u001b[0m\u001b[0marg\u001b[0m\u001b[0;34m]\u001b[0m\u001b[0;34m)\u001b[0m\u001b[0;34m,\u001b[0m \u001b[0mformat\u001b[0m\u001b[0;34m)\u001b[0m\u001b[0;34m[\u001b[0m\u001b[0;36m0\u001b[0m\u001b[0;34m]\u001b[0m\u001b[0;34m\u001b[0m\u001b[0;34m\u001b[0m\u001b[0m\n\u001b[0m\u001b[1;32m   1102\u001b[0m         \u001b[0;32mif\u001b[0m \u001b[0misinstance\u001b[0m\u001b[0;34m(\u001b[0m\u001b[0marg\u001b[0m\u001b[0;34m,\u001b[0m \u001b[0mbool\u001b[0m\u001b[0;34m)\u001b[0m \u001b[0;32mand\u001b[0m \u001b[0misinstance\u001b[0m\u001b[0;34m(\u001b[0m\u001b[0mresult\u001b[0m\u001b[0;34m,\u001b[0m \u001b[0mnp\u001b[0m\u001b[0;34m.\u001b[0m\u001b[0mbool_\u001b[0m\u001b[0;34m)\u001b[0m\u001b[0;34m:\u001b[0m\u001b[0;34m\u001b[0m\u001b[0;34m\u001b[0m\u001b[0m\n\u001b[1;32m   1103\u001b[0m             \u001b[0mresult\u001b[0m \u001b[0;34m=\u001b[0m \u001b[0mbool\u001b[0m\u001b[0;34m(\u001b[0m\u001b[0mresult\u001b[0m\u001b[0;34m)\u001b[0m  \u001b[0;31m# TODO: avoid this kludge.\u001b[0m\u001b[0;34m\u001b[0m\u001b[0;34m\u001b[0m\u001b[0m\n",
            "\u001b[0;32m/usr/local/lib/python3.11/dist-packages/pandas/core/tools/datetimes.py\u001b[0m in \u001b[0;36m_convert_listlike_datetimes\u001b[0;34m(arg, format, name, utc, unit, errors, dayfirst, yearfirst, exact)\u001b[0m\n\u001b[1;32m    431\u001b[0m     \u001b[0;31m# `format` could be inferred, or user didn't ask for mixed-format parsing.\u001b[0m\u001b[0;34m\u001b[0m\u001b[0;34m\u001b[0m\u001b[0m\n\u001b[1;32m    432\u001b[0m     \u001b[0;32mif\u001b[0m \u001b[0mformat\u001b[0m \u001b[0;32mis\u001b[0m \u001b[0;32mnot\u001b[0m \u001b[0;32mNone\u001b[0m \u001b[0;32mand\u001b[0m \u001b[0mformat\u001b[0m \u001b[0;34m!=\u001b[0m \u001b[0;34m\"mixed\"\u001b[0m\u001b[0;34m:\u001b[0m\u001b[0;34m\u001b[0m\u001b[0;34m\u001b[0m\u001b[0m\n\u001b[0;32m--> 433\u001b[0;31m         \u001b[0;32mreturn\u001b[0m \u001b[0m_array_strptime_with_fallback\u001b[0m\u001b[0;34m(\u001b[0m\u001b[0marg\u001b[0m\u001b[0;34m,\u001b[0m \u001b[0mname\u001b[0m\u001b[0;34m,\u001b[0m \u001b[0mutc\u001b[0m\u001b[0;34m,\u001b[0m \u001b[0mformat\u001b[0m\u001b[0;34m,\u001b[0m \u001b[0mexact\u001b[0m\u001b[0;34m,\u001b[0m \u001b[0merrors\u001b[0m\u001b[0;34m)\u001b[0m\u001b[0;34m\u001b[0m\u001b[0;34m\u001b[0m\u001b[0m\n\u001b[0m\u001b[1;32m    434\u001b[0m \u001b[0;34m\u001b[0m\u001b[0m\n\u001b[1;32m    435\u001b[0m     result, tz_parsed = objects_to_datetime64(\n",
            "\u001b[0;32m/usr/local/lib/python3.11/dist-packages/pandas/core/tools/datetimes.py\u001b[0m in \u001b[0;36m_array_strptime_with_fallback\u001b[0;34m(arg, name, utc, fmt, exact, errors)\u001b[0m\n\u001b[1;32m    465\u001b[0m     \u001b[0mCall\u001b[0m \u001b[0marray_strptime\u001b[0m\u001b[0;34m,\u001b[0m \u001b[0;32mwith\u001b[0m \u001b[0mfallback\u001b[0m \u001b[0mbehavior\u001b[0m \u001b[0mdepending\u001b[0m \u001b[0mon\u001b[0m \u001b[0;34m'errors'\u001b[0m\u001b[0;34m.\u001b[0m\u001b[0;34m\u001b[0m\u001b[0;34m\u001b[0m\u001b[0m\n\u001b[1;32m    466\u001b[0m     \"\"\"\n\u001b[0;32m--> 467\u001b[0;31m     \u001b[0mresult\u001b[0m\u001b[0;34m,\u001b[0m \u001b[0mtz_out\u001b[0m \u001b[0;34m=\u001b[0m \u001b[0marray_strptime\u001b[0m\u001b[0;34m(\u001b[0m\u001b[0marg\u001b[0m\u001b[0;34m,\u001b[0m \u001b[0mfmt\u001b[0m\u001b[0;34m,\u001b[0m \u001b[0mexact\u001b[0m\u001b[0;34m=\u001b[0m\u001b[0mexact\u001b[0m\u001b[0;34m,\u001b[0m \u001b[0merrors\u001b[0m\u001b[0;34m=\u001b[0m\u001b[0merrors\u001b[0m\u001b[0;34m,\u001b[0m \u001b[0mutc\u001b[0m\u001b[0;34m=\u001b[0m\u001b[0mutc\u001b[0m\u001b[0;34m)\u001b[0m\u001b[0;34m\u001b[0m\u001b[0;34m\u001b[0m\u001b[0m\n\u001b[0m\u001b[1;32m    468\u001b[0m     \u001b[0;32mif\u001b[0m \u001b[0mtz_out\u001b[0m \u001b[0;32mis\u001b[0m \u001b[0;32mnot\u001b[0m \u001b[0;32mNone\u001b[0m\u001b[0;34m:\u001b[0m\u001b[0;34m\u001b[0m\u001b[0;34m\u001b[0m\u001b[0m\n\u001b[1;32m    469\u001b[0m         \u001b[0munit\u001b[0m \u001b[0;34m=\u001b[0m \u001b[0mnp\u001b[0m\u001b[0;34m.\u001b[0m\u001b[0mdatetime_data\u001b[0m\u001b[0;34m(\u001b[0m\u001b[0mresult\u001b[0m\u001b[0;34m.\u001b[0m\u001b[0mdtype\u001b[0m\u001b[0;34m)\u001b[0m\u001b[0;34m[\u001b[0m\u001b[0;36m0\u001b[0m\u001b[0;34m]\u001b[0m\u001b[0;34m\u001b[0m\u001b[0;34m\u001b[0m\u001b[0m\n",
            "\u001b[0;32mstrptime.pyx\u001b[0m in \u001b[0;36mpandas._libs.tslibs.strptime.array_strptime\u001b[0;34m()\u001b[0m\n",
            "\u001b[0;32mstrptime.pyx\u001b[0m in \u001b[0;36mpandas._libs.tslibs.strptime._get_format_regex\u001b[0;34m()\u001b[0m\n",
            "\u001b[0;32mstrptime.pyx\u001b[0m in \u001b[0;36mpandas._libs.tslibs.strptime._get_format_regex\u001b[0;34m()\u001b[0m\n",
            "\u001b[0;32m/usr/lib/python3.11/_strptime.py\u001b[0m in \u001b[0;36m_getlang\u001b[0;34m()\u001b[0m\n\u001b[1;32m     24\u001b[0m \u001b[0m__all__\u001b[0m \u001b[0;34m=\u001b[0m \u001b[0;34m[\u001b[0m\u001b[0;34m]\u001b[0m\u001b[0;34m\u001b[0m\u001b[0;34m\u001b[0m\u001b[0m\n\u001b[1;32m     25\u001b[0m \u001b[0;34m\u001b[0m\u001b[0m\n\u001b[0;32m---> 26\u001b[0;31m \u001b[0;32mdef\u001b[0m \u001b[0m_getlang\u001b[0m\u001b[0;34m(\u001b[0m\u001b[0;34m)\u001b[0m\u001b[0;34m:\u001b[0m\u001b[0;34m\u001b[0m\u001b[0;34m\u001b[0m\u001b[0m\n\u001b[0m\u001b[1;32m     27\u001b[0m     \u001b[0;31m# Figure out what the current language is set to.\u001b[0m\u001b[0;34m\u001b[0m\u001b[0;34m\u001b[0m\u001b[0m\n\u001b[1;32m     28\u001b[0m     \u001b[0;32mreturn\u001b[0m \u001b[0mlocale\u001b[0m\u001b[0;34m.\u001b[0m\u001b[0mgetlocale\u001b[0m\u001b[0;34m(\u001b[0m\u001b[0mlocale\u001b[0m\u001b[0;34m.\u001b[0m\u001b[0mLC_TIME\u001b[0m\u001b[0;34m)\u001b[0m\u001b[0;34m\u001b[0m\u001b[0;34m\u001b[0m\u001b[0m\n",
            "\u001b[0;31mKeyboardInterrupt\u001b[0m: "
          ]
        }
      ],
      "source": [
        "import pandas as pd\n",
        "import re\n",
        "from datetime import datetime\n",
        "\n",
        "def data_cleaning(file_name):\n",
        "    date_str = file_name.name.split(\"_\")[-1].split(\".\")[0]  # Extract 'DDMMYYYY'\n",
        "    target_date = pd.to_datetime(date_str, format=\"%d%m%Y\")  # Convert once\n",
        "\n",
        "    print(\"\\n--------------------------------------\")\n",
        "    print(f\"Date: {target_date.strftime('%d %b %Y')}\")\n",
        "\n",
        "    df = pd.read_csv(file_name, usecols=['Ticker', 'Time', 'Open', 'High', 'Low', 'Close'], engine='python')  # Load only required columns\n",
        "    df['Time'] = pd.to_datetime(df['Time'].str.strip(), format=\"%H:%M:%S\").dt.time  # Vectorized conversion\n",
        "\n",
        "    # Filter required tickers directly\n",
        "    mask = df['Ticker'].str.startswith('NIFTY') & df['Ticker'].str.endswith(('PE.NFO', 'CE.NFO'))\n",
        "    df = df.loc[mask]\n",
        "\n",
        "    # Extract expiry date using vectorized regex\n",
        "    date_pattern = df['Ticker'].str.extract(r'(\\d{2})([A-Z]{3})(\\d{2})')\n",
        "    if date_pattern.isnull().any().any():\n",
        "        print(\"Warning: Some tickers did not match the expected pattern.\")\n",
        "\n",
        "    date_pattern.dropna(inplace=True)\n",
        "    date_pattern.columns = ['Day', 'Month', 'Year']\n",
        "\n",
        "    # Convert expiry dates\n",
        "    date_pattern['Year'] = date_pattern['Year'].astype(int) + 2000\n",
        "    date_pattern['Day'] = date_pattern['Day'].astype(int)\n",
        "    date_pattern['Month'] = pd.to_datetime(date_pattern['Month'], format='%b').dt.month  # Vectorized month conversion\n",
        "    df['Expiry_Date'] = pd.to_datetime(date_pattern[['Year', 'Month', 'Day']])  # Efficient date creation\n",
        "\n",
        "    # Find the closest expiry date\n",
        "    min_expiry_date = df['Expiry_Date'][df['Expiry_Date'] >= target_date].min()\n",
        "    df = df.loc[df['Expiry_Date'] == min_expiry_date]\n",
        "\n",
        "    df = df.drop(columns=['Expiry_Date'])\n",
        "\n",
        "    return target_date, df\n",
        "\n",
        "\n",
        "def add_time_to_string(time_str, m):\n",
        "    # Parse the time string into a datetime object\n",
        "    time_obj = datetime.strptime(time_str, \"%H:%M:%S\")\n",
        "\n",
        "    # Add the specified hours and minutes\n",
        "    new_time_obj = time_obj + timedelta(minutes=m)\n",
        "\n",
        "    # Format the new time back to a string\n",
        "    new_time_str = new_time_obj.strftime(\"%H:%M:%S\")\n",
        "\n",
        "    return new_time_str\n",
        "\n",
        "def find_nearest_options(df, price_input, curr_time):\n",
        "\n",
        "    # Extract hour and minute from x\n",
        "    curr_time = pd.to_datetime(curr_time, format='%H:%M:%S')\n",
        "\n",
        "    # Filter rows where the hour and minute match\n",
        "    df_filtered = df[(df['Time'].apply(lambda x: x.hour) == curr_time.hour) &\n",
        "                  (df['Time'].apply(lambda x: x.minute) == curr_time.minute)].copy()\n",
        "\n",
        "    # Find difference\n",
        "    df_filtered.loc[:, 'Closest'] = abs(df_filtered['Close'] - price_input)\n",
        "\n",
        "    # Separate CE and PE options (using endswith)\n",
        "    ce_options = df_filtered[df_filtered['Ticker'].str.endswith('CE.NFO')]\n",
        "    pe_options = df_filtered[df_filtered['Ticker'].str.endswith('PE.NFO')]\n",
        "\n",
        "    # Find the first CE and PE with the smallest Close >= price_input\n",
        "    nearest_ce = ce_options.loc[ce_options['Closest'].idxmin()] if not ce_options.empty else None\n",
        "    nearest_pe = pe_options.loc[pe_options['Closest'].idxmin()] if not pe_options.empty else None\n",
        "\n",
        "    return nearest_ce, nearest_pe\n",
        "\n",
        "def sl_and_reentry(df, ticker, price, time):\n",
        "\n",
        "    # Initialize variables\n",
        "    stop_loss_price = 60  # Stop loss threshold\n",
        "    reentry_price = 40    # Re-entry threshold\n",
        "    profit_loss = 0       # Track profit/loss\n",
        "    curr_time = time      # Start tracking from the given time\n",
        "    profit_p = []\n",
        "    curr_price = price\n",
        "    transactions = []\n",
        "\n",
        "    while True:\n",
        "\n",
        "        # Extract hour and minute from x\n",
        "        df_filtered = df[(df['Ticker'] == ticker)].copy()\n",
        "        curr_time = pd.to_datetime(curr_time, format='%H:%M:%S')\n",
        "\n",
        "\n",
        "        # Assuming curr_time is a datetime.time object\n",
        "        df_filtered = df_filtered[\n",
        "            (\n",
        "                (df_filtered['Time'].apply(lambda x: x.hour) > curr_time.hour)\n",
        "            ) |\n",
        "            (\n",
        "                (df_filtered['Time'].apply(lambda x: x.hour) == curr_time.hour) &\n",
        "                (df_filtered['Time'].apply(lambda x: x.minute) > curr_time.minute)\n",
        "            )\n",
        "        ]\n",
        "\n",
        "        # Filter by price\n",
        "        df_filtered_price = df_filtered[(df_filtered['High'] >= stop_loss_price)].copy()\n",
        "\n",
        "        if (len(df_filtered_price) == 0): # No SL hit\n",
        "            df_filtered = df_filtered.sort_values(by='Time')\n",
        "            profit_p.append((- df_filtered.iloc[-1]['Close'] + curr_price) / 200000 * 100 * 75)\n",
        "            transactions.append((curr_time, curr_price, df_filtered.iloc[-1]['Close'])) # (sell, buy)\n",
        "            curr_time = df_filtered.iloc[-1]['Time']\n",
        "        else: # SL\n",
        "            # Sort by Time and get the first row\n",
        "            reentry_price = curr_price\n",
        "            result = df_filtered_price.sort_values(by='Time')\n",
        "            first_r = result.iloc[0]\n",
        "            profit_p.append((-stop_loss_price + curr_price) / 200000 * 100 * 75)\n",
        "            transactions.append((curr_time, curr_price, stop_loss_price)) # (sell, buy)\n",
        "            curr_time = first_r['Time']\n",
        "\n",
        "        return curr_time, profit_p, transactions\n",
        "\n",
        "\n",
        "    return None\n",
        "\n",
        "def set_yellow(sh, next_row):\n",
        "\n",
        "    worksheet = sh.get_worksheet(0)  # Get the first worksheet\n",
        "\n",
        "     # Format the row yellow\n",
        "    format_body = {\n",
        "        \"requests\": [{\n",
        "            \"repeatCell\": {\n",
        "                \"range\": {\n",
        "                    \"sheetId\": worksheet.id,\n",
        "                    \"startRowIndex\": next_row - 1,  # gspread uses 0-based indexing\n",
        "                    \"endRowIndex\": next_row,\n",
        "                    \"startColumnIndex\": 0,\n",
        "                    \"endColumnIndex\": 26  # Assuming 26 columns like before\n",
        "                },\n",
        "                \"cell\": {\n",
        "                    \"userEnteredFormat\": {\n",
        "                        \"backgroundColor\": {\n",
        "                            \"red\": 1.0, \"green\": 1.0, \"blue\": 0.0  # Yellow\n",
        "                        }\n",
        "                    }\n",
        "                },\n",
        "                \"fields\": \"userEnteredFormat.backgroundColor\"\n",
        "            }\n",
        "        }]\n",
        "    }\n",
        "\n",
        "    # Apply the format directly using the format_body\n",
        "    # The format_body is already in the correct structure for batch_update\n",
        "    sh.batch_update(format_body)\n",
        "\n",
        "def get_sh():\n",
        "    sheet_url = \"https://docs.google.com/spreadsheets/d/17KL8LiAjjDZZXFKkhGhCugIqLe-C8NCGB97EQqLvZZ4/edit?usp=sharing\"\n",
        "    sh = gc.open_by_url(sheet_url)\n",
        "    return sh\n",
        "\n",
        "def backtest(target_date, df, display):\n",
        "\n",
        "    curr_time = \"09:30:00\"\n",
        "    active = set()\n",
        "    profit = 0\n",
        "    profit_p = []\n",
        "    price_input = 40\n",
        "    profit_track = []\n",
        "\n",
        "    sh = get_sh()\n",
        "    worksheet = sh.get_worksheet(0)  # Get the first worksheet\n",
        "    headers = ['Time', 'Buy', 'Sell']  # List of column names\n",
        "    worksheet.update('A1', [headers])  # Update row 1 with your headers\n",
        "\n",
        "    # Get the number of rows in the sheet\n",
        "    all_values = worksheet.get_all_values()\n",
        "    next_row = len(all_values) + 1 if all_values else 1\n",
        "\n",
        "    # Determine the range for the next row. Assuming 26 columns (A to Z)\n",
        "    cells = worksheet.range(f'A{next_row}:Z{next_row}')\n",
        "\n",
        "    # Convert pandas.Timestamp to string\n",
        "    target_date = target_date.strftime(\"%Y-%m-%d\")\n",
        "\n",
        "    # Update the first column with the date\n",
        "    cell = worksheet.cell(next_row, 1)  # Column 1 is 'A'\n",
        "    cell.value = target_date\n",
        "    worksheet.update_cells([cell])\n",
        "    next_row += 1\n",
        "\n",
        "    while curr_time <= \"15:00:00\":\n",
        "\n",
        "        i, j = 0, 0\n",
        "        curr = find_nearest_options(df, price_input, curr_time)\n",
        "        new_time = add_time_to_string(curr_time, 30)\n",
        "\n",
        "        if curr[0] is not None:\n",
        "\n",
        "            if display:\n",
        "                cell = worksheet.cell(next_row, 1)  # Column 1 is 'A'\n",
        "                cell.value = \"Call\"\n",
        "                worksheet.update_cells([cell])\n",
        "                next_row += 1\n",
        "\n",
        "            c_ticker = curr[0]['Ticker']\n",
        "            c_price = curr[0]['Close']\n",
        "            x_time = curr_time\n",
        "            while i < 3:\n",
        "                if x_time <= \"15:00:00\":\n",
        "                    x_time, x_profit, x_transactions = sl_and_reentry(df, c_ticker, c_price, x_time)\n",
        "                    x_time = str(x_time)[-8:]\n",
        "                    curr1 = find_nearest_options(df, price_input, x_time)\n",
        "                    profit_p.extend(x_profit)\n",
        "\n",
        "                    c_ticker = curr1[0]['Ticker']\n",
        "                    c_price = curr1[0]['Close']\n",
        "\n",
        "\n",
        "                    if display:\n",
        "                        # Convert to the format you want for the time column (HH:MM:SS)\n",
        "                        time_only = x_transactions[0][0].time().strftime(\"%H:%M:%S\")\n",
        "                        buy, sell = x_transactions[0][1], x_transactions[0][2]\n",
        "                        # Insert transaction data\n",
        "                        range_str = f'A{next_row}:C{next_row}'  # A for time, B for buy, C for sell\n",
        "                        worksheet.update(range_str, [[time_only, buy, sell]])\n",
        "                        next_row += 1\n",
        "\n",
        "                    i += 1\n",
        "                else:\n",
        "                    break\n",
        "\n",
        "        if curr[1] is not None:\n",
        "\n",
        "            if display:\n",
        "                cell = worksheet.cell(next_row, 1)  # Column 1 is 'A'\n",
        "                cell.value = \"Put\"\n",
        "                worksheet.update_cells([cell])\n",
        "                next_row += 1\n",
        "\n",
        "            p_ticker = curr[1]['Ticker']\n",
        "            p_price = curr[1]['Close']\n",
        "\n",
        "            x_time = curr_time\n",
        "            while j < 3:\n",
        "                if x_time <= \"15:00:00\":\n",
        "                    x_time, x_profit, x_transactions = sl_and_reentry(df, p_ticker, p_price, x_time)\n",
        "                    x_time = str(x_time)[-8:]\n",
        "                    curr2 = find_nearest_options(df, price_input, x_time)\n",
        "                    profit_p.extend(x_profit)\n",
        "\n",
        "                    p_ticker = curr2[1]['Ticker']\n",
        "                    p_price = curr2[1]['Close']\n",
        "\n",
        "                    if display:\n",
        "                        # Convert to the format you want for the time column (HH:MM:SS)\n",
        "                        time_only = x_transactions[0][0].time().strftime(\"%H:%M:%S\")\n",
        "                        buy, sell = x_transactions[0][1], x_transactions[0][2]\n",
        "                        # Get the number of rows in the sheet\n",
        "                        all_values = worksheet.get_all_values()\n",
        "                        # Insert transaction data\n",
        "                        range_str = f'A{next_row}:C{next_row}'  # A for time, B for buy, C for sell\n",
        "                        worksheet.update(range_str, [[time_only, buy, sell]])\n",
        "                        next_row += 1\n",
        "\n",
        "                    j += 1\n",
        "\n",
        "                else:\n",
        "                    break\n",
        "\n",
        "        curr_time = new_time\n",
        "\n",
        "\n",
        "    # Initialize variables\n",
        "    total_sum = sum(profit_p)  # Sum of all values\n",
        "    num_win_days = sum(1 for value in profit_p if value > 0)  # Count of positive values\n",
        "    num_loss_days = sum(1 for value in profit_p if value < 0)  # Count of negative values\n",
        "\n",
        "    # Print results in sheets\n",
        "    sh = get_sh()\n",
        "    worksheet = sh.get_worksheet(0)\n",
        "    all_values = worksheet.get_all_values()\n",
        "    next_row = len(all_values) + 1 if all_values else 1\n",
        "    range_str = f'A{next_row}:C{next_row}'\n",
        "    worksheet.update(range_str, [[total_sum, num_win_days, num_loss_days]])\n",
        "\n",
        "    # Print results\n",
        "    print(profit_p)\n",
        "    print(\"Total Profit %:\", total_sum)\n",
        "    print(\"Number of wins:\", num_win_days)\n",
        "    print(\"Number of losses:\", num_loss_days)\n",
        "\n",
        "    return total_sum\n",
        "\n",
        "\n",
        "def process_nested_zip(zip_file_path):\n",
        "    \"\"\"\n",
        "    Processes a zip file containing monthly zip files, which in turn contain CSV files.\n",
        "\n",
        "    Args:\n",
        "    zip_file_path: The path to the main zip file (e.g., \"2020.zip\").\n",
        "    \"\"\"\n",
        "\n",
        "    sh = get_sh()\n",
        "    worksheet = sh.get_worksheet(0)  # Get the first worksheet\n",
        "    worksheet.clear()\n",
        "\n",
        "    i = 0\n",
        "    total = 0\n",
        "    with zipfile.ZipFile(zip_file_path, 'r') as main_zip:\n",
        "        for month_zip_info in main_zip.infolist():\n",
        "            if month_zip_info.filename.endswith(\".zip\"):  # Process only zip files\n",
        "                month_zip_name = month_zip_info.filename\n",
        "                with main_zip.open(month_zip_info) as month_zip_file:\n",
        "                    if \"__MACOSX\" in month_zip_info.filename or month_zip_info.filename.startswith(\"._\"):\n",
        "                        continue  # Skip macOS metadata files\n",
        "                    with zipfile.ZipFile(month_zip_file, 'r') as month_zip:\n",
        "                        for csv_file_info in month_zip.infolist():\n",
        "                            if csv_file_info.filename.endswith(\".csv\"):\n",
        "                                csv_file_name = csv_file_info.filename\n",
        "                                with month_zip.open(csv_file_info) as csv_file:\n",
        "                                    # Assuming your backtest function takes a file path as input\n",
        "                                    if \"__MACOSX\" in csv_file_info.filename or csv_file_info.filename.startswith(\"._\"):\n",
        "                                        continue\n",
        "                                    sh = get_sh()\n",
        "                                    worksheet = sh.get_worksheet(0)  # Get the first worksheet\n",
        "                                    if i < 2:\n",
        "                                        print = True\n",
        "                                    elif i == 2:\n",
        "                                        sh = get_sh()\n",
        "                                        worksheet = sh.get_worksheet(0)\n",
        "                                        all_values = worksheet.get_all_values()\n",
        "                                        next_row = len(all_values) + 1 if all_values else 1\n",
        "                                        range_str = f'A{next_row}:C{next_row}'\n",
        "                                        worksheet.update(range_str, [[\"Profit\", \"Win Days\", \"Loss Days\"]])\n",
        "\n",
        "                                    i += 1\n",
        "                                    target_date, df = data_cleaning(csv_file)\n",
        "                                    total += backtest(target_date, df, print)\n",
        "                                    print = False\n",
        "\n",
        "\n",
        "    print(\"Total : \", total)\n",
        "\n",
        "# Call the function to process your \"2020.zip\" file\n",
        "process_nested_zip(\"/content/2020.zip\")\n",
        "\n",
        "\n"
      ]
    }
  ],
  "metadata": {
    "colab": {
      "provenance": [],
      "authorship_tag": "ABX9TyNtypnj68af1pXhf420cajN"
    },
    "kernelspec": {
      "display_name": "Python 3",
      "name": "python3"
    },
    "language_info": {
      "name": "python"
    }
  },
  "nbformat": 4,
  "nbformat_minor": 0
}